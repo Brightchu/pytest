{
 "cells": [
  {
   "cell_type": "markdown",
   "metadata": {},
   "source": [
    "## Numpy Basic\n",
    "### Concatenation of arrays\n",
    "**np.concatenate , np.vstack , and np.hstack**"
   ]
  },
  {
   "cell_type": "markdown",
   "metadata": {},
   "source": [
    "### Splitting of arrays\n",
    "**np.split , np.hsplit , and np.vsplit**"
   ]
  },
  {
   "cell_type": "code",
   "execution_count": null,
   "metadata": {},
   "outputs": [],
   "source": [
    "import numpy as np"
   ]
  },
  {
   "cell_type": "code",
   "execution_count": null,
   "metadata": {},
   "outputs": [],
   "source": [
    "x = [1, 2, 3, 99, 99, 3, 2, 1]\n",
    "x1, x2, x3 = np.split(x, [3, 5])\n",
    "print(x1)\n",
    "y = np.array([[0, 1, 2, 3],\n",
    "              [4, 5, 6, 7],\n",
    "              [8, 9, 10, 11],\n",
    "              [12, 13, 14, 15]])\n",
    "upper, lower = np.vsplit(y, [2])\n",
    "print(y)\n",
    "print(upper)\n",
    "print(lower)"
   ]
  },
  {
   "cell_type": "code",
   "execution_count": null,
   "metadata": {},
   "outputs": [],
   "source": [
    "import timeit \n",
    "big_array = np.random.randint(1, 100, size=1000000)\n",
    "%timeit (1.0 / big_array)"
   ]
  },
  {
   "cell_type": "markdown",
   "metadata": {},
   "source": [
    "### Aggregates"
   ]
  },
  {
   "cell_type": "markdown",
   "metadata": {},
   "source": [
    "#### reduce accumulate outer "
   ]
  },
  {
   "cell_type": "code",
   "execution_count": null,
   "metadata": {},
   "outputs": [],
   "source": [
    "x = np.arange(1, 6)\n",
    "print(np.add.reduce(x))\n",
    "print(np.multiply.reduce(x))\n",
    "print(np.add.accumulate(x))\n",
    "print(np.multiply.accumulate(x))\n",
    "print(np.multiply.outer(x, x))"
   ]
  },
  {
   "cell_type": "markdown",
   "metadata": {},
   "source": [
    "#### sum"
   ]
  },
  {
   "cell_type": "code",
   "execution_count": null,
   "metadata": {},
   "outputs": [],
   "source": [
    "x = np.arange(1, 6)\n",
    "y = np.arange(6,11)\n",
    "x = np.vstack([x,y])\n",
    "print(x)\n",
    "print(sum(x))\n",
    "print(np.sum(x))\n",
    "print(x.sum())"
   ]
  },
  {
   "cell_type": "markdown",
   "metadata": {},
   "source": [
    "#### min, max"
   ]
  },
  {
   "cell_type": "code",
   "execution_count": null,
   "metadata": {},
   "outputs": [],
   "source": [
    "x = np.arange(1, 6)\n",
    "y = np.arange(6,11)\n",
    "x = np.vstack([x,y])\n",
    "print(x)\n",
    "print(np.min(x), np.max(y))\n",
    "print(x.min(), x.max())\n",
    "%timeit x.min()"
   ]
  },
  {
   "cell_type": "markdown",
   "metadata": {},
   "source": [
    "#### Multidimensional aggregates"
   ]
  },
  {
   "cell_type": "code",
   "execution_count": null,
   "metadata": {},
   "outputs": [],
   "source": [
    "M = np.random.randint(20,size=(3, 5))\n",
    "print(M)\n",
    "print(M.sum())\n",
    "print(M.sum(axis=0))\n",
    "print(M.sum(axis=1))\n",
    "print(np.median(M))\n",
    "print(np.median(M,axis=0))\n",
    "print(np.percentile(M,10))\n",
    "\n"
   ]
  },
  {
   "cell_type": "markdown",
   "metadata": {},
   "source": [
    "### Fancy Indexing\n",
    "#### Indexing with broadcasting indexing array"
   ]
  },
  {
   "cell_type": "code",
   "execution_count": null,
   "metadata": {},
   "outputs": [],
   "source": [
    "X = np.arange(12).reshape((3, 4))\n",
    "print(X)\n",
    "row = np.array([0, 1, 2])\n",
    "col = np.array([2, 1, 3])\n",
    "print(np.array([row,col]))\n",
    "print([row[:,np.newaxis],col])\n",
    "print(X[row,col])\n",
    "print(X[row[:,np.newaxis],col])"
   ]
  },
  {
   "cell_type": "markdown",
   "metadata": {},
   "source": [
    "#### Combined Indexing"
   ]
  },
  {
   "cell_type": "code",
   "execution_count": null,
   "metadata": {},
   "outputs": [],
   "source": [
    "X = np.arange(12).reshape((3, 4))\n",
    "\n",
    "row = np.array([0, 1, 2])\n",
    "print(\"row shape\",row.shape)\n",
    "print(\"row newaxis shape:\",row[:, np.newaxis].shape)\n",
    "print(\"X: \\n\",X)\n",
    "Xnewaxis = X[np.newaxis]\n",
    "print(\"X newaxis:\\n\",Xnewaxis)\n",
    "print(\"X newaxis shape:\", Xnewaxis.shape)\n",
    "Xnewaxis = X[:,np.newaxis]\n",
    "print(\"X newaxis:\\n\",Xnewaxis)\n",
    "print(\"X newaxis shape:\", Xnewaxis.shape)\n",
    "Xnewaxis = X[:,:,np.newaxis]\n",
    "print(\"X newaxis:\\n\",Xnewaxis)\n",
    "print(\"X newaxis shape:\", Xnewaxis.shape)\n",
    "print(X[row[:, np.newaxis]])\n",
    "print(X[row[:, np.newaxis]].shape)\n",
    "\n",
    "mask = np.array([1, 0, 1, 0])\n",
    "print(\"X: \\n\",X)\n",
    "print(\"mask:\",[row[:, np.newaxis], mask])\n",
    "print(\"X with mask: \\n\",X[row[:, np.newaxis], mask])\n",
    "print(\"rowbymask shape:\",X[row[:, np.newaxis], mask].shape)\n",
    "mask = np.array([1, 0, 1, 0], dtype=bool)\n",
    "print(\"mask:\",[row[:, np.newaxis], mask])\n",
    "print(\"X with mask: \\n\",X[row[:, np.newaxis], mask])\n",
    "\n",
    "print(\"rowbymask shape:\",X[row[:, np.newaxis], mask].shape)\n",
    "X = np.arange(8).reshape(2,4)\n",
    "mask = np.array([1, 0, 1, 0], dtype=bool)\n",
    "print(X[np.array([0,1]).reshape(2,1),mask])\n"
   ]
  },
  {
   "cell_type": "markdown",
   "metadata": {},
   "source": [
    "> take care, mask with dtype = bool has no broadcasting attribute. we have to create the boolean array manually"
   ]
  },
  {
   "cell_type": "markdown",
   "metadata": {},
   "source": [
    "#### Modifying Values with Fancy Indexing"
   ]
  },
  {
   "cell_type": "code",
   "execution_count": null,
   "metadata": {},
   "outputs": [],
   "source": [
    "indice = np.array([0,4, 1,5, 2,6, 3,7])\n",
    "print(indice[::2])\n",
    "print([0,4, 1,5, 2,6, 3,7][::2])\n",
    "print(np.arange(8))\n",
    "print(np.add.reduceat(np.arange(8),[0,4, 1,5, 2,6, 3,7]))\n",
    "print(np.add.reduceat(np.arange(8),[0,4, 1,5, 2,6, 3,7])[::2])"
   ]
  },
  {
   "cell_type": "code",
   "execution_count": null,
   "metadata": {},
   "outputs": [],
   "source": [
    "http://lijin-thu.github.io/03.%20numpy/03.16%20universal%20functions.html"
   ]
  },
  {
   "cell_type": "code",
   "execution_count": null,
   "metadata": {},
   "outputs": [],
   "source": [
    "x = np.arange(10)\n",
    "## the operation only execute once other than sequentially\n",
    "i = np.array([0,0])\n",
    "x[i] = [4,6]  \n",
    "print(x)\n",
    "x[i] += 1     \n",
    "print(x)\n",
    "np.add.at(x, i, 1)\n",
    "print(x)"
   ]
  },
  {
   "cell_type": "markdown",
   "metadata": {},
   "source": [
    "> take care the differece of augmentation by pure indexing and np.add.at"
   ]
  },
  {
   "cell_type": "markdown",
   "metadata": {},
   "source": [
    "### Sort"
   ]
  },
  {
   "cell_type": "code",
   "execution_count": null,
   "metadata": {},
   "outputs": [],
   "source": [
    "rand = np.random.RandomState(42)\n",
    "X = rand.randint(0, 10, (4, 6))\n",
    "print(\"X:\\n\",X)\n",
    "x = np.sort(X.flatten())\n",
    "print(\"X sorted:\\n\",x)\n",
    "x = np.sort(X)\n",
    "print(\"X sorted:\\n\",x)  # np.sort() sort array along rows by default\n",
    "i = np.argsort(X)\n",
    "print(\"indice of sorted X: \\n\",i)\n",
    "x = np.sort(X, axis = 1) # the same as np.sort(X)\n",
    "print(\"X sorted along rows:\\n\",x)\n",
    "x = np.sort(X, axis = 0) \n",
    "print(\"X sorted along columns:\\n\",x)"
   ]
  },
  {
   "cell_type": "code",
   "execution_count": null,
   "metadata": {},
   "outputs": [],
   "source": [
    "rand = np.random.RandomState(42)\n",
    "X = rand.randint(0, 10, (10, 2))\n",
    "print(X)\n",
    "print(X[:,np.newaxis,:])\n",
    "print(X[:,np.newaxis,:].shape)\n",
    "print(X[np.newaxis,:,:])\n",
    "print(X[np.newaxis,:,:].shape)\n",
    "\n",
    "differences = X[:,np.newaxis,:] - X[np.newaxis,:,:]\n",
    "print(\"difference shape: \", (differences).shape)\n",
    "sq_differences = differences ** 2\n",
    "print(\"sq_differences shape: \", sq_differences.shape)\n",
    "dist_sq = np.sum((X[:,np.newaxis,:] - X[np.newaxis,:,:]) ** 2, axis = -1)\n",
    "print(dist_sq.shape)\n"
   ]
  },
  {
   "cell_type": "markdown",
   "metadata": {},
   "source": [
    "### NumPy’s Structured Arrays"
   ]
  },
  {
   "cell_type": "code",
   "execution_count": 2,
   "metadata": {},
   "outputs": [
    {
     "name": "stdout",
     "output_type": "stream",
     "text": [
      "[('name', '<U10'), ('age', '<i4'), ('weight', '<f8')]\n",
      "[('Alice', 25, 55. ) ('Bob', 45, 85.5) ('Cathy', 37, 68. )\n",
      " ('Doug', 19, 61.5)]\n"
     ]
    },
    {
     "data": {
      "text/plain": [
       "array(['Alice', 'Bob', 'Cathy', 'Doug'], dtype='<U10')"
      ]
     },
     "execution_count": 2,
     "metadata": {},
     "output_type": "execute_result"
    }
   ],
   "source": [
    "name = ['Alice', 'Bob', 'Cathy', 'Doug']\n",
    "age = [25, 45, 37, 19]\n",
    "weight = [55.0, 85.5, 68.0, 61.5]\n",
    "data = np.zeros(4, dtype={'names':('name', 'age', 'weight'),\n",
    "'formats':('U10', 'i4', 'f8')})\n",
    "print(data.dtype)\n",
    "data['name'] = name\n",
    "data['age'] = age\n",
    "data['weight'] = weight\n",
    "print(data)\n",
    "data['name']"
   ]
  },
  {
   "cell_type": "markdown",
   "metadata": {},
   "source": [
    "> Pandas is a better choice for structured data"
   ]
  }
 ],
 "metadata": {
  "kernelspec": {
   "display_name": "Python 3",
   "language": "python",
   "name": "python3"
  },
  "language_info": {
   "codemirror_mode": {
    "name": "ipython",
    "version": 3
   },
   "file_extension": ".py",
   "mimetype": "text/x-python",
   "name": "python",
   "nbconvert_exporter": "python",
   "pygments_lexer": "ipython3",
   "version": "3.7.7"
  },
  "toc": {
   "base_numbering": 1,
   "nav_menu": {},
   "number_sections": true,
   "sideBar": true,
   "skip_h1_title": false,
   "title_cell": "Table of Contents",
   "title_sidebar": "Contents",
   "toc_cell": false,
   "toc_position": {
    "height": "calc(100% - 180px)",
    "left": "10px",
    "top": "150px",
    "width": "273.391px"
   },
   "toc_section_display": true,
   "toc_window_display": true
  },
  "varInspector": {
   "cols": {
    "lenName": 16,
    "lenType": 16,
    "lenVar": 40
   },
   "kernels_config": {
    "python": {
     "delete_cmd_postfix": "",
     "delete_cmd_prefix": "del ",
     "library": "var_list.py",
     "varRefreshCmd": "print(var_dic_list())"
    },
    "r": {
     "delete_cmd_postfix": ") ",
     "delete_cmd_prefix": "rm(",
     "library": "var_list.r",
     "varRefreshCmd": "cat(var_dic_list()) "
    }
   },
   "types_to_exclude": [
    "module",
    "function",
    "builtin_function_or_method",
    "instance",
    "_Feature"
   ],
   "window_display": false
  }
 },
 "nbformat": 4,
 "nbformat_minor": 4
}
