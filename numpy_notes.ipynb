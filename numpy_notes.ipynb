{
 "cells": [
  {
   "cell_type": "markdown",
   "metadata": {},
   "source": [
    "## Numpy Basic\n",
    "### Concatenation of arrays\n",
    "**p.concatenate , np.vstack , and np.hstack**"
   ]
  },
  {
   "cell_type": "code",
   "execution_count": null,
   "metadata": {},
   "outputs": [],
   "source": [
    "x = np.array([1, 2, 3])\n",
    "y = np.array([3, 2, 1])\n",
    "z = np.concatenate([x, y])\n",
    "print(z)\n",
    "z = np.hstack([x, y])\n",
    "print(z)\n",
    "z = np.vstack([x, y])\n",
    "print(z)"
   ]
  },
  {
   "cell_type": "markdown",
   "metadata": {},
   "source": [
    "### Splitting of arrays\n",
    "**np.split , np.hsplit , and np.vsplit**"
   ]
  },
  {
   "cell_type": "code",
   "execution_count": null,
   "metadata": {},
   "outputs": [],
   "source": [
    "x = [1, 2, 3, 99, 99, 3, 2, 1]\n",
    "x1, x2, x3 = np.split(x, [3, 5])\n",
    "print(x1)\n",
    "y = np.array([[0, 1, 2, 3],\n",
    "              [4, 5, 6, 7],\n",
    "              [8, 9, 10, 11],\n",
    "              [12, 13, 14, 15]])\n",
    "upper, lower = np.vsplit(y, [2])\n",
    "print(y)\n",
    "print(upper)\n",
    "print(lower)"
   ]
  },
  {
   "cell_type": "code",
   "execution_count": null,
   "metadata": {},
   "outputs": [],
   "source": [
    "import timeit \n",
    "big_array = np.random.randint(1, 100, size=1000000)\n",
    "%timeit (1.0 / big_array)"
   ]
  },
  {
   "cell_type": "markdown",
   "metadata": {},
   "source": [
    "### Aggregates"
   ]
  },
  {
   "cell_type": "markdown",
   "metadata": {},
   "source": [
    "#### reduce accumulate outer "
   ]
  },
  {
   "cell_type": "code",
   "execution_count": null,
   "metadata": {},
   "outputs": [],
   "source": [
    "x = np.arange(1, 6)\n",
    "print(np.add.reduce(x))\n",
    "print(np.multiply.reduce(x))\n",
    "print(np.add.accumulate(x))\n",
    "print(np.multiply.accumulate(x))\n",
    "print(np.multiply.outer(x, x))"
   ]
  },
  {
   "cell_type": "markdown",
   "metadata": {},
   "source": [
    "#### sum"
   ]
  },
  {
   "cell_type": "code",
   "execution_count": null,
   "metadata": {},
   "outputs": [],
   "source": [
    "x = np.arange(1, 6)\n",
    "y = np.arange(6,11)\n",
    "x = np.vstack([x,y])\n",
    "print(x)\n",
    "print(sum(x))\n",
    "print(np.sum(x))\n",
    "print(x.sum())"
   ]
  },
  {
   "cell_type": "markdown",
   "metadata": {},
   "source": [
    "#### min, max"
   ]
  },
  {
   "cell_type": "code",
   "execution_count": null,
   "metadata": {},
   "outputs": [],
   "source": [
    "x = np.arange(1, 6)\n",
    "y = np.arange(6,11)\n",
    "x = np.vstack([x,y])\n",
    "print(x)\n",
    "print(np.min(x), np.max(y))\n",
    "print(x.min(), x.max())\n",
    "%timeit x.min()"
   ]
  },
  {
   "cell_type": "markdown",
   "metadata": {},
   "source": [
    "#### Multidimensional aggregates"
   ]
  },
  {
   "cell_type": "code",
   "execution_count": null,
   "metadata": {},
   "outputs": [],
   "source": [
    "M = np.random.randint(20,size=(3, 5))\n",
    "print(M)\n",
    "print(M.sum())\n",
    "print(M.sum(axis=0))\n",
    "print(M.sum(axis=1))\n",
    "print(np.median(M))\n",
    "print(np.median(M,axis=0))\n",
    "print(np.percentile(M,10))\n",
    "\n"
   ]
  },
  {
   "cell_type": "markdown",
   "metadata": {},
   "source": [
    "### Fancy Indexing\n",
    "#### Indexing with broadcasting indexing array"
   ]
  },
  {
   "cell_type": "code",
   "execution_count": null,
   "metadata": {},
   "outputs": [],
   "source": [
    "X = np.arange(12).reshape((3, 4))\n",
    "print(X)\n",
    "row = np.array([0, 1, 2])\n",
    "col = np.array([2, 1, 3])\n",
    "print(np.array([row,col]))\n",
    "print([row[:,np.newaxis],col])\n",
    "print(X[row,col])\n",
    "print(X[row[:,np.newaxis],col])"
   ]
  },
  {
   "cell_type": "markdown",
   "metadata": {},
   "source": [
    "#### Combined Indexing"
   ]
  },
  {
   "cell_type": "code",
   "execution_count": null,
   "metadata": {},
   "outputs": [],
   "source": [
    "X = np.arange(12).reshape((3, 4))\n",
    "\n",
    "row = np.array([0, 1, 2])\n",
    "print(\"row shape\",row.shape)\n",
    "print(\"row newaxis shape:\",row[:, np.newaxis].shape)\n",
    "print(\"X: \\n\",X)\n",
    "Xnewaxis = X[np.newaxis]\n",
    "print(\"X newaxis:\\n\",Xnewaxis)\n",
    "print(\"X newaxis shape:\", Xnewaxis.shape)\n",
    "Xnewaxis = X[:,np.newaxis]\n",
    "print(\"X newaxis:\\n\",Xnewaxis)\n",
    "print(\"X newaxis shape:\", Xnewaxis.shape)\n",
    "Xnewaxis = X[:,:,np.newaxis]\n",
    "print(\"X newaxis:\\n\",Xnewaxis)\n",
    "print(\"X newaxis shape:\", Xnewaxis.shape)\n",
    "print(X[row[:, np.newaxis]])\n",
    "print(X[row[:, np.newaxis]].shape)\n",
    "\n",
    "mask = np.array([1, 0, 1, 0])\n",
    "print(\"X: \\n\",X)\n",
    "print(\"mask:\",[row[:, np.newaxis], mask])\n",
    "print(\"X with mask: \\n\",X[row[:, np.newaxis], mask])\n",
    "print(\"rowbymask shape:\",X[row[:, np.newaxis], mask].shape)\n",
    "mask = np.array([1, 0, 1, 0], dtype=bool)\n",
    "print(\"mask:\",[row[:, np.newaxis], mask])\n",
    "print(\"X with mask: \\n\",X[row[:, np.newaxis], mask])\n",
    "\n",
    "print(\"rowbymask shape:\",X[row[:, np.newaxis], mask].shape)\n",
    "X = np.arange(8).reshape(2,4)\n",
    "mask = np.array([1, 0, 1, 0], dtype=bool)\n",
    "print(X[np.array([0,1]).reshape(2,1),mask])\n"
   ]
  },
  {
   "cell_type": "markdown",
   "metadata": {},
   "source": [
    "> take care, mask with dtype = bool has no broadcasting attribute. we have to create the boolean array manually"
   ]
  },
  {
   "cell_type": "code",
   "execution_count": null,
   "metadata": {},
   "outputs": [],
   "source": []
  }
 ],
 "metadata": {
  "kernelspec": {
   "display_name": "Python 3",
   "language": "python",
   "name": "python3"
  },
  "language_info": {
   "codemirror_mode": {
    "name": "ipython",
    "version": 3
   },
   "file_extension": ".py",
   "mimetype": "text/x-python",
   "name": "python",
   "nbconvert_exporter": "python",
   "pygments_lexer": "ipython3",
   "version": "3.7.7"
  },
  "toc": {
   "base_numbering": 1,
   "nav_menu": {},
   "number_sections": true,
   "sideBar": true,
   "skip_h1_title": false,
   "title_cell": "Table of Contents",
   "title_sidebar": "Contents",
   "toc_cell": false,
   "toc_position": {
    "height": "calc(100% - 180px)",
    "left": "10px",
    "top": "150px",
    "width": "273.391px"
   },
   "toc_section_display": true,
   "toc_window_display": true
  },
  "varInspector": {
   "cols": {
    "lenName": 16,
    "lenType": 16,
    "lenVar": 40
   },
   "kernels_config": {
    "python": {
     "delete_cmd_postfix": "",
     "delete_cmd_prefix": "del ",
     "library": "var_list.py",
     "varRefreshCmd": "print(var_dic_list())"
    },
    "r": {
     "delete_cmd_postfix": ") ",
     "delete_cmd_prefix": "rm(",
     "library": "var_list.r",
     "varRefreshCmd": "cat(var_dic_list()) "
    }
   },
   "types_to_exclude": [
    "module",
    "function",
    "builtin_function_or_method",
    "instance",
    "_Feature"
   ],
   "window_display": false
  }
 },
 "nbformat": 4,
 "nbformat_minor": 4
}
