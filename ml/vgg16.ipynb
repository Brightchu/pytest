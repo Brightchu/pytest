{
 "cells": [
  {
   "cell_type": "code",
   "execution_count": 4,
   "metadata": {},
   "outputs": [
    {
     "name": "stdout",
     "output_type": "stream",
     "text": [
      "--2020-07-23 16:45:44--  https://storage.googleapis.com/mledu-datasets/cats_and_dogs_filtered.zip\n",
      "Resolving storage.googleapis.com (storage.googleapis.com)... 142.250.68.48, 142.250.68.112, 172.217.11.80, ...\n",
      "Connecting to storage.googleapis.com (storage.googleapis.com)|142.250.68.48|:443... connected.\n",
      "HTTP request sent, awaiting response... 200 OK\n",
      "Length: 68606236 (65M) [application/zip]\n",
      "Saving to: ‘cats_and_dogs_filtered2.zip’\n",
      "\n",
      "              cats_  36%[======>             ]  23.86M   197KB/s    eta 5m 21s ^C\n"
     ]
    }
   ],
   "source": [
    "#!wget --no-check-certificate \\\n",
    "  https://storage.googleapis.com/mledu-datasets/cats_and_dogs_filtered.zip \\\n",
    "  -O cats_and_dogs_filtered2.zip"
   ]
  },
  {
   "cell_type": "code",
   "execution_count": 3,
   "metadata": {},
   "outputs": [
    {
     "name": "stdout",
     "output_type": "stream",
     "text": [
      "  % Total    % Received % Xferd  Average Speed   Time    Time     Time  Current\n",
      "                                 Dload  Upload   Total   Spent    Left  Speed\n",
      "100 65.4M  100 65.4M    0     0   108k      0  0:10:18  0:10:18 --:--:--  162k--:-- --:--:--     08  0:11:28 72680102k      0  0:10:54  0:00:38  0:10:16  170k00  0:08:27  141k0  0:12:11  0:02:06  0:10:05 4106210 39110  0:13:52  0:03:52  0:10:00 7310173929  0:13:54  0:03:59  0:09:55 79303:47  0:04:04  0:09:43  114k40      0  0:11:47  0:05:25  0:06:22  173k0:11:28  0:05:35  0:05:53  164k:05:51  146k0:11:12  0:05:48  0:05:24  139k:15  0:04:13  162k.5M    0     0   111k      0  0:10:01  0:06:40  0:03:21  171k7  0:06:44  0:03:13  223k 0:07:10  0:02:38  117k      0  0:09:49  0:07:23  0:02:26 88983   113k      0  0:09:48  0:08:00  0:01:48  116k13k      0  0:09:49  0:08:04  0:01:45 8857408:28  0:01:25  106k  112k      0  0:09:53  0:08:30  0:01:23  105k 0   112k      0  0:09:58  0:08:48  0:01:10 77551:09:00  0:00:59  103k9.2M    0     0   111k      0  0:10:00  0:09:03  0:00:57   99k 0:00:22 81745457  0:10:20  0:10:13  0:00:07 677940:15  0:00:05 99540\n"
     ]
    }
   ],
   "source": [
    "#!curl -O https://storage.googleapis.com/mledu-datasets/cats_and_dogs_filtered.zip"
   ]
  },
  {
   "cell_type": "code",
   "execution_count": 5,
   "metadata": {},
   "outputs": [
    {
     "name": "stdout",
     "output_type": "stream",
     "text": [
      "Archive:  cats_and_dogs_filtered.zip\n",
      "replace cats_and_dogs_filtered/vectorize.py? [y]es, [n]o, [A]ll, [N]one, [r]ename: ^C\n"
     ]
    }
   ],
   "source": [
    "#!unzip cats_and_dogs_filtered.zip"
   ]
  },
  {
   "cell_type": "code",
   "execution_count": null,
   "metadata": {},
   "outputs": [],
   "source": []
  }
 ],
 "metadata": {
  "kernelspec": {
   "display_name": "Python 3",
   "language": "python",
   "name": "python3"
  },
  "language_info": {
   "codemirror_mode": {
    "name": "ipython",
    "version": 3
   },
   "file_extension": ".py",
   "mimetype": "text/x-python",
   "name": "python",
   "nbconvert_exporter": "python",
   "pygments_lexer": "ipython3",
   "version": "3.7.7"
  },
  "toc": {
   "base_numbering": 1,
   "nav_menu": {},
   "number_sections": true,
   "sideBar": true,
   "skip_h1_title": false,
   "title_cell": "Table of Contents",
   "title_sidebar": "Contents",
   "toc_cell": false,
   "toc_position": {},
   "toc_section_display": true,
   "toc_window_display": false
  }
 },
 "nbformat": 4,
 "nbformat_minor": 4
}
